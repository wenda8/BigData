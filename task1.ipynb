{
 "cells": [
  {
   "attachments": {},
   "cell_type": "markdown",
   "metadata": {},
   "source": [
    "Первая создает бинарный файл (min 2Гб), состоящий из случайных 32-разрядных беззнаковых целых чисел (big endian)."
   ]
  },
  {
   "cell_type": "code",
   "execution_count": 2,
   "metadata": {},
   "outputs": [],
   "source": [
    "import time \n",
    "import ipykernel_launcher\n",
    "import struct\n",
    "import mmap\n",
    "import threading\n",
    "import queue"
   ]
  },
  {
   "cell_type": "code",
   "execution_count": 4,
   "metadata": {},
   "outputs": [],
   "source": [
    "import random\n",
    "import struct\n",
    "\n",
    "with open(\"random_numbers.bin\", \"wb\") as f:\n",
    "    while f.tell() < 2 * 1024**3:\n",
    "        num = random.randint(0, 2**32 - 1)\n",
    "        num_bytes = num.to_bytes(4, \"big\")\n",
    "        f.write(num_bytes)"
   ]
  },
  {
   "attachments": {},
   "cell_type": "markdown",
   "metadata": {},
   "source": [
    "Вторая считает сумму этих чисел (с применением длинной арифметики), находит минимальное и максимальное число.\n",
    "1. Простое последовательное чтение "
   ]
  },
  {
   "cell_type": "code",
   "execution_count": 4,
   "metadata": {},
   "outputs": [
    {
     "name": "stdout",
     "output_type": "stream",
     "text": [
      " sum: 1152968791111996711 \n",
      " min: 0 \n",
      " max:4294967292\n",
      " time:572.8589899539948\n",
      "CPU times: total: 9min 10s\n",
      "Wall time: 9min 32s\n"
     ]
    }
   ],
   "source": [
    "%%time\n",
    "\n",
    "sum_num = 0\n",
    "min_num = 2**32 - 1\n",
    "max_num = 0\n",
    "\n",
    "start_time = time.time()\n",
    "with open(\"random_numbers.bin\", \"rb\") as f:\n",
    "    while (chunk := f.read(4)):\n",
    "        num = int.from_bytes(chunk, \"big\")\n",
    "        sum_num += num\n",
    "        min_num = min(min_num, num)\n",
    "        max_num = max(max_num, num)\n",
    "end_time = time.time()\n",
    "print(f' sum: {sum_num} \\n min: {min_num} \\n max:{max_num}\\n time:{end_time-start_time}')"
   ]
  },
  {
   "attachments": {},
   "cell_type": "markdown",
   "metadata": {},
   "source": [
    "2. Многопоточная + memory-mapped files. Сравните время работы. "
   ]
  },
  {
   "cell_type": "code",
   "execution_count": 5,
   "metadata": {},
   "outputs": [],
   "source": [
    "def worker(q, results):\n",
    "    while True:\n",
    "        chunk = q.get()\n",
    "        if chunk is None:\n",
    "            break\n",
    "        nums = struct.unpack('>' + 'I' * (len(chunk) // 4), chunk)\n",
    "        results.append((sum(nums), max(nums), min(nums)))\n",
    "        q.task_done()\n",
    "\n",
    "def process_file(filename):\n",
    "    chunk_size = 1024 * 1024  \n",
    "    threads_num = 8  \n",
    "\n",
    "    q = queue.Queue()\n",
    "    results = []\n",
    "\n",
    "    threads = []\n",
    "    for _ in range(threads_num):\n",
    "        t = threading.Thread(target=worker, args=(q, results))\n",
    "        t.start()\n",
    "        threads.append(t)\n",
    "\n",
    "    with open(filename, 'rb') as f:\n",
    "        mmapped_file = mmap.mmap(f.fileno(), 0, access=mmap.ACCESS_READ)\n",
    "        chunks = [mmapped_file[i:i + chunk_size] for i in range(0, len(mmapped_file), chunk_size)]\n",
    "\n",
    "    for chunk in chunks:\n",
    "        q.put(chunk)\n",
    "\n",
    "    q.join()\n",
    "\n",
    "    for i in range(threads_num):\n",
    "        q.put(None)\n",
    "    for t in threads:\n",
    "        t.join()\n",
    "\n",
    "    total_sum = sum(result[0] for result in results)\n",
    "    max_num = max(result[1] for result in results)\n",
    "    min_num = min(result[2] for result in results)\n",
    "\n",
    "    return total_sum, max_num, min_num"
   ]
  },
  {
   "cell_type": "code",
   "execution_count": 6,
   "metadata": {},
   "outputs": [
    {
     "name": "stdout",
     "output_type": "stream",
     "text": [
      " sum: 1152968791111996711 \n",
      " min: 0 \n",
      " max:4294967292\n",
      "CPU times: total: 1min\n",
      "Wall time: 1min 2s\n"
     ]
    }
   ],
   "source": [
    "%%time\n",
    "total_sum, max_num, min_num = process_file('random_numbers.bin')\n",
    "print(f' sum: {total_sum} \\n min: {min_num} \\n max:{max_num}')"
   ]
  }
 ],
 "metadata": {
  "kernelspec": {
   "display_name": "Python 3",
   "language": "python",
   "name": "python3"
  },
  "language_info": {
   "codemirror_mode": {
    "name": "ipython",
    "version": 3
   },
   "file_extension": ".py",
   "mimetype": "text/x-python",
   "name": "python",
   "nbconvert_exporter": "python",
   "pygments_lexer": "ipython3",
   "version": "3.10.9"
  },
  "orig_nbformat": 4
 },
 "nbformat": 4,
 "nbformat_minor": 2
}
