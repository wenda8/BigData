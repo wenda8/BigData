{
 "cells": [
  {
   "attachments": {},
   "cell_type": "markdown",
   "metadata": {},
   "source": [
    "1. Нужно сгенерировать файл, содержащий 5000 32-битных случайных целых чисел, каждое число на отдельной строке. "
   ]
  },
  {
   "cell_type": "code",
   "execution_count": 1,
   "metadata": {},
   "outputs": [],
   "source": [
    "import random\n",
    "\n",
    "def random_32bit_int():\n",
    "    return random.randint(0, 2**31 - 1)\n",
    "\n",
    "with open('random_numbers_5000.txt', 'w') as f:\n",
    "    for _ in range(5000):\n",
    "        f.write(str(random_32bit_int()) + '\\n')"
   ]
  },
  {
   "attachments": {},
   "cell_type": "markdown",
   "metadata": {},
   "source": [
    "Простым последовательным алгоритмом"
   ]
  },
  {
   "attachments": {},
   "cell_type": "markdown",
   "metadata": {},
   "source": [
    "\n",
    "2. Посчитать, какое суммарное количество простых множителей присутствует при факторизации всех чисел.  Например, пусть всего два числа: 6 и 8. \n",
    "6 = 2 * 3, 8 = 2 * 2 * 2. Ответ 5.  "
   ]
  },
  {
   "cell_type": "code",
   "execution_count": 1,
   "metadata": {},
   "outputs": [],
   "source": [
    "def prime_factors(n):\n",
    "    i = 2\n",
    "    factors = 0\n",
    "    while i * i <= abs(n): \n",
    "        if n % i:\n",
    "            i += 1\n",
    "        else:\n",
    "            n //= i\n",
    "            factors += 1\n",
    "    if n > 1:\n",
    "        factors += 1\n",
    "    return factors"
   ]
  },
  {
   "cell_type": "code",
   "execution_count": 2,
   "metadata": {},
   "outputs": [
    {
     "name": "stdout",
     "output_type": "stream",
     "text": [
      "20601\n",
      "CPU times: total: 4.45 s\n",
      "Wall time: 4.64 s\n"
     ]
    }
   ],
   "source": [
    "%%time\n",
    "with open('random_numbers_5000.txt', 'r') as f:\n",
    "    numbers = [int(line.strip()) for line in f]\n",
    "    total_factors = sum(prime_factors(n) for n in numbers)\n",
    "\n",
    "print(total_factors)"
   ]
  },
  {
   "attachments": {},
   "cell_type": "markdown",
   "metadata": {},
   "source": [
    "(В файле task2.py) Многопоточно (на CPython - multiprocessing), с использованием примитивов синхронизации "
   ]
  },
  {
   "attachments": {
    "image.png": {
     "image/png": "[encoded data removed]"
    }
   },
   "cell_type": "markdown",
   "metadata": {},
   "source": [
    "![image.png](attachment:image.png)"
   ]
  },
  {
   "attachments": {},
   "cell_type": "markdown",
   "metadata": {},
   "source": [
    "С помощью Ray/Dask/PySpark"
   ]
  },
  {
   "cell_type": "code",
   "execution_count": 3,
   "metadata": {},
   "outputs": [
    {
     "name": "stderr",
     "output_type": "stream",
     "text": [
      "2023-06-12 03:30:19,451\tINFO worker.py:1636 -- Started a local Ray instance.\n"
     ]
    },
    {
     "name": "stdout",
     "output_type": "stream",
     "text": [
      "20601\n",
      "CPU times: total: 4.48 s\n",
      "Wall time: 25.8 s\n"
     ]
    }
   ],
   "source": [
    "%%time\n",
    "import numpy as np\n",
    "import ray\n",
    "\n",
    "if ray.is_initialized():\n",
    "    ray.shutdown()\n",
    "\n",
    "ray.init()\n",
    "\n",
    "@ray.remote\n",
    "def prime_factors(n):\n",
    "    i = 2\n",
    "    factors = 0\n",
    "    while i * i <= abs(n):\n",
    "        if n % i:\n",
    "            i += 1\n",
    "        else:\n",
    "            n //= i\n",
    "            factors += 1\n",
    "    if n > 1:\n",
    "        factors += 1\n",
    "    return factors\n",
    "\n",
    "with open('random_numbers_5000.txt', 'r') as f:\n",
    "    num_list = [int(line.strip()) for line in f]\n",
    "\n",
    "data_split = np.array_split(np.array(num_list), 4)\n",
    "futures = [prime_factors.remote(data) for subset in data_split for data in subset]\n",
    "results = ray.get(futures)\n",
    "\n",
    "print(np.sum(results))\n",
    "ray.shutdown()"
   ]
  }
 ],
 "metadata": {
  "kernelspec": {
   "display_name": "base",
   "language": "python",
   "name": "python3"
  },
  "language_info": {
   "codemirror_mode": {
    "name": "ipython",
    "version": 3
   },
   "file_extension": ".py",
   "mimetype": "text/x-python",
   "name": "python",
   "nbconvert_exporter": "python",
   "pygments_lexer": "ipython3",
   "version": "3.10.9"
  },
  "orig_nbformat": 4
 },
 "nbformat": 4,
 "nbformat_minor": 2
}
